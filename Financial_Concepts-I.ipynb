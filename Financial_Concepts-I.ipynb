{
 "cells": [
  {
   "cell_type": "markdown",
   "metadata": {},
   "source": [
    "## Introduction to Financial Concepts in Python"
   ]
  },
  {
   "cell_type": "markdown",
   "metadata": {},
   "source": [
    "### Growth and Rate of Return\n",
    "\n",
    "Growth and Rate of Return are two concepts that are ubiquitous throughout the financial world. Recall that the cumulative returns from investing $100 in an asset that grows at 5% per year, over a 2 year period can be calculated as:\n",
    "\n",
    "100∗(1+0.05)**2\n",
    "\n",
    "1. Calculate the future value (cumulative return) of a $100 investment which grows at a rate of 6% per year for 30 years in a row and assign it to future_value."
   ]
  },
  {
   "cell_type": "code",
   "execution_count": 1,
   "metadata": {},
   "outputs": [
    {
     "name": "stdout",
     "output_type": "stream",
     "text": [
      "Future Value of Investment: 574.35\n"
     ]
    }
   ],
   "source": [
    "# Calculate the future value of the investment and print it out\n",
    "future_value = 100* (1+0.06)**30\n",
    "print(\"Future Value of Investment: \" + str(round(future_value, 2)))"
   ]
  },
  {
   "cell_type": "markdown",
   "metadata": {},
   "source": [
    "### Compound Interest\n",
    "\n",
    "As you saw in the previous exercise, both time and the rate of return are very important variables when forecasting the future value of an investment.\n",
    "\n",
    "Another important variable is the number of compounding periods, which can greatly affect compounded returns over time.\n"
   ]
  },
  {
   "cell_type": "code",
   "execution_count": 2,
   "metadata": {},
   "outputs": [
    {
     "name": "stdout",
     "output_type": "stream",
     "text": [
      "Investment 1: 574.35\n"
     ]
    }
   ],
   "source": [
    "# Predefined variables\n",
    "initial_investment = 100\n",
    "growth_periods = 30\n",
    "growth_rate = 0.06\n",
    "\n",
    "# Calculate the value for the investment compounded once per year\n",
    "compound_periods_1 = 1\n",
    "investment_1 = initial_investment*(1 + growth_rate / compound_periods_1)**(compound_periods_1*growth_periods)\n",
    "print(\"Investment 1: \" + str(round(investment_1, 2)))"
   ]
  },
  {
   "cell_type": "code",
   "execution_count": 24,
   "metadata": {},
   "outputs": [
    {
     "name": "stdout",
     "output_type": "stream",
     "text": [
      "Investment 1: 574.35\n",
      "Investment 1: 574.35\n",
      "Investment 2: 596.93\n"
     ]
    }
   ],
   "source": [
    "# Predefined variables\n",
    "initial_investment = 100\n",
    "growth_periods = 30\n",
    "growth_rate = 0.06\n",
    "\n",
    "# Calculate the value for the investment compounded once per year\n",
    "compound_periods_1 = 1\n",
    "investment_1 = initial_investment*(1 + growth_rate / compound_periods_1)**(compound_periods_1*growth_periods)\n",
    "print(\"Investment 1: \" + str(round(investment_1, 2)))\n",
    "\n",
    "# Calculate the value for the investment compounded quarterly\n",
    "compound_periods_2 = 4\n",
    "investment_2 = initial_investment*(1 + growth_rate / compound_periods_2)**(compound_periods_2*growth_periods)\n",
    "print(\"Investment 1: \" + str(round(investment_1, 2)))\n",
    "print(\"Investment 2: \" + str(round(investment_2, 2)))\n",
    "\n"
   ]
  },
  {
   "cell_type": "markdown",
   "metadata": {},
   "source": [
    "###"
   ]
  },
  {
   "cell_type": "code",
   "execution_count": 4,
   "metadata": {},
   "outputs": [
    {
     "name": "stdout",
     "output_type": "stream",
     "text": [
      "Future value: 59.87\n",
      "Discount factor: 1.67\n",
      "Initial value: 100.0\n"
     ]
    }
   ],
   "source": [
    "# Calculate the future value\n",
    "initial_investment = 100\n",
    "growth_rate = -0.05\n",
    "growth_periods = 10\n",
    "future_value = initial_investment*(1+growth_rate)**growth_periods\n",
    "print(\"Future value: \" + str(round(future_value, 2)))\n",
    "\n",
    "# Calculate the discount factor\n",
    "discount_factor = 1/((1 + growth_rate)**(growth_periods))\n",
    "print(\"Discount factor: \" + str(round(discount_factor, 2)))\n",
    "\n",
    "# Derive the initial value of the investment\n",
    "initial_investment_again = future_value*discount_factor\n",
    "print(\"Initial value: \" + str(round(initial_investment_again, 2)))"
   ]
  },
  {
   "cell_type": "markdown",
   "metadata": {},
   "source": [
    "### Present Value\n",
    "\n",
    "Luckily for you, there is a module called numpy which contains many functions which will make your life much easier when working with financial values.\n",
    "\n",
    "The .pv(rate, nper, pmt, fv) function, for example, allows you to calculate the present value of an investment as before with a few simple parameters:\n",
    "\n",
    "rate: The rate of return of the investment\n",
    "nper: The lifespan of the investment\n",
    "pmt: The (fixed) payment at the beginning or end of each period (which is 0 in our example)\n",
    "fv: The future value of the investment\n",
    "You can use this formula in many ways. For example, you can calculate the present value of future investments in today's dollars.\n",
    "\n",
    "- Instructions:\n",
    "1. Import numpy as np.\n",
    "\n",
    "2. Using Numpy's .pv() function, compute the present value of an investment which will yield $10,000 15 years from now at an inflation rate of 3% per year and assign it to investment_1.\n",
    "\n",
    "3. Compute the present value of the same investment, but with a time horizon of only 10 years and an inflation rate of 5%, assigning it to investment_2.\n"
   ]
  },
  {
   "cell_type": "code",
   "execution_count": 25,
   "metadata": {},
   "outputs": [
    {
     "name": "stdout",
     "output_type": "stream",
     "text": [
      "Investment 1 is worth 6418.62 in today's dollars\n",
      "Investment 2 is worth 6139.13 in today's dollars\n"
     ]
    }
   ],
   "source": [
    "# Calculating the exercise  with Numpy Financial\n",
    "import numpy as np\n",
    "import numpy_financial as npf\n",
    "# Calculate investment_1\n",
    "investment_1 = npf.pv(rate=.03, nper=15, pmt=0, fv=10000)\n",
    "\n",
    "# Note that the present value returned is negative, so we multiply the result by -1\n",
    "print(\"Investment 1 is worth \" + str(round(-investment_1, 2)) + \" in today's dollars\")\n",
    "\n",
    "# Calculate investment_2\n",
    "investment_2 = npf.pv(rate=.05, nper=10, pmt=0, fv=10000)\n",
    "print(\"Investment 2 is worth \" + str(round(-investment_2, 2)) + \" in today's dollars\")\n"
   ]
  },
  {
   "cell_type": "markdown",
   "metadata": {},
   "source": [
    "### Future Value\n",
    "\n",
    "The numpy module also contains a similar function, .fv(rate, nper, pmt, pv), which allows you to calculate the future value of an investment as before with a few simple parameters:\n",
    "\n",
    "rate: The rate of return of the investment\n",
    "nper: The lifespan of the investment\n",
    "pmt: The (fixed) payment at the beginning or end of each period (which is 0 in our example)\n",
    "pv: The present value of the investment\n",
    "It is important to note that in this function call, you must pass a negative value into the pv parameter if it represents a negative cash flow (cash going out). In other words, if you were to compute the future value of an investment, requiring an up-front cash payment, you would need to pass a negative value to the pv parameter in the .fv() function."
   ]
  },
  {
   "cell_type": "markdown",
   "metadata": {},
   "source": [
    "- Instructions :\n",
    "\n",
    "1. Using Numpy's .fv() function, calculate the future value of a $10,000 investment returning 5% per year for 15 years and assign it to investment_1.\n",
    "\n",
    "2. Calculate the future value of a $10,000 investment returning 8% per year for 15 years and assign it to investment_2."
   ]
  },
  {
   "cell_type": "code",
   "execution_count": 9,
   "metadata": {},
   "outputs": [
    {
     "name": "stdout",
     "output_type": "stream",
     "text": [
      "Investment 1 will yield a total of $20789.28 in 15 years\n",
      "Investment 2 will yield a total of $31721.69 in 15 years\n"
     ]
    }
   ],
   "source": [
    "# Calculate investment_1\n",
    "investment_1 = npf.fv(rate=.05, nper=15, pmt=0, pv=-10000)\n",
    "print(\"Investment 1 will yield a total of $\" + str(round(investment_1, 2)) + \" in 15 years\")\n",
    "\n",
    "# Calculate investment_2\n",
    "investment_2 = npf.fv(rate=.08, nper=15, pmt=0, pv=-10000)\n",
    "print(\"Investment 2 will yield a total of $\" + str(round(investment_2, 2)) + \" in 15 years\")"
   ]
  },
  {
   "cell_type": "markdown",
   "metadata": {},
   "source": [
    "### Adjusting Future Values for Inflation\n",
    "\n",
    "You can now put together what you learned in the previous exercises by following a simple methodology:\n",
    "\n",
    "First, forecast the future value of an investment given a rate of return\n",
    "Second, discount the future value of the investment by a projected inflation rate\n",
    "The methodology above will use both the .fv() and .pv() functions to arrive at the projected value of a given investment in today's dollars, adjusted for inflation.\n",
    "\n",
    "- Instructions:\n",
    "\n",
    "1. Calculate the future value of a $10,000 investment returning 8% per year for 10 years using .fv() and assign it to investment_1.\n",
    "\n",
    "2. Calculate the inflation-adjusted present value of investment_1, using an inflation rate of 3% per year and assign it to investment_1_discounted."
   ]
  },
  {
   "cell_type": "code",
   "execution_count": 11,
   "metadata": {},
   "outputs": [
    {
     "name": "stdout",
     "output_type": "stream",
     "text": [
      "Investment 1 will yield a total of $21589.25 in 10 years\n",
      "After adjusting for inflation, investment 1 is worth $16064.43 in today's dollars\n"
     ]
    }
   ],
   "source": [
    "# Calculate investment_1\n",
    "investment_1 = npf.fv(rate=0.08, nper=10, pmt=0, pv=-10000)\n",
    "print(\"Investment 1 will yield a total of $\" + str(round(investment_1, 2)) + \" in 10 years\")\n",
    "\n",
    "# Calculate investment_2\n",
    "investment_1_discounted = npf.pv(rate=0.03, nper=10, pmt=0, fv=investment_1)\n",
    "print(\"After adjusting for inflation, investment 1 is worth $\" + str(round(-investment_1_discounted, 2)) + \" in today's dollars\")"
   ]
  },
  {
   "cell_type": "markdown",
   "metadata": {},
   "source": [
    "### Discounting Cash Flows\n",
    "\n",
    "You can use numpy's net present value function numpy.npv(rate, values) to calculate the net present value of a series of cash flows. You can create these cash flows by using a numpy.array([...]) of values.\n",
    "\n"
   ]
  },
  {
   "cell_type": "code",
   "execution_count": 26,
   "metadata": {},
   "outputs": [
    {
     "name": "stdout",
     "output_type": "stream",
     "text": [
      "Investment 1's net present value is $471.71 in today's dollars\n",
      "Investment 2's net present value is $454.6 in today's dollars\n"
     ]
    }
   ],
   "source": [
    "\n",
    "# Predefined array of cash flows\n",
    "cash_flows = np.array([100, 100, 100, 100, 100])\n",
    "\n",
    "# Calculate investment_1\n",
    "investment_1 = npf.npv(rate=.03, values=cash_flows)\n",
    "print(\"Investment 1's net present value is $\" + str(round(investment_1, 2)) + \" in today's dollars\")\n",
    "\n",
    "# Calculate investment_2\n",
    "investment_2 = npf.npv(rate=.05, values=cash_flows)\n",
    "print(\"Investment 2's net present value is $\" + str(round(investment_2, 2)) + \" in today's dollars\")\n"
   ]
  },
  {
   "cell_type": "markdown",
   "metadata": {},
   "source": [
    "### Initial Project Costs\n",
    "\n",
    "The numpy.npv(rate, values) function is very powerful because it allows you to pass in both positive and negative values.\n",
    "\n",
    "- Instructions:\n",
    "1. Create a numpy array of the cash flow values for project 1, assigning it to cash_flows_1, and then do the same for project 2, assigning the values to cash_flows_2.\n",
    "\n",
    "2. Calculate the net present value of both projects 1 and 2 assuming a 3% inflation rate.\n"
   ]
  },
  {
   "cell_type": "code",
   "execution_count": 20,
   "metadata": {},
   "outputs": [
    {
     "name": "stdout",
     "output_type": "stream",
     "text": [
      "The net present value of Investment 1 is worth $665.54 in today's dollars\n",
      "The net present value of Investment 2 is worth $346.7 in today's dollars\n"
     ]
    }
   ],
   "source": [
    "# Create an array of cash flows for project 1\n",
    "cash_flows_1 = np.array([-250, 100, 200, 300, 400])\n",
    "\n",
    "# Create an array of cash flows for project 2\n",
    "cash_flows_2 = np.array([-250, 300, -250, 300, 300])\n",
    "\n",
    "\n",
    "# Calculate the net present value of project 1\n",
    "investment_1 = npf.npv(rate=0.03, values=cash_flows_1)\n",
    "\n",
    "print(\"The net present value of Investment 1 is worth $\" + str(round(investment_1, 2)) + \" in today's dollars\")\n",
    "\n",
    "# Calculate the net present value of project 2\n",
    "investment_2 = npf.npv(rate=0.03, values=cash_flows_2)\n",
    "print(\"The net present value of Investment 2 is worth $\" + str(round(investment_2, 2)) + \" in today's dollars\")"
   ]
  },
  {
   "cell_type": "markdown",
   "metadata": {},
   "source": [
    "### Diminishing Cash Flows\n",
    "\n",
    "Remember how compounded returns grow rapidly over time? Well, it works in the reverse, too. Compounded discount factors over time will quickly shrink a number towards zero.\n"
   ]
  },
  {
   "cell_type": "code",
   "execution_count": 27,
   "metadata": {},
   "outputs": [
    {
     "name": "stdout",
     "output_type": "stream",
     "text": [
      "Investment 1 is worth $41.2 in today's dollars\n",
      "Investment 2 is worth $22.81 in today's dollars\n"
     ]
    }
   ],
   "source": [
    "# Calculate investment_1\n",
    "investment_1 = npf.pv(rate=.03, nper=30, pmt=0, fv=100)\n",
    "print(\"Investment 1 is worth $\" + str(round(-investment_1, 2)) + \" in today's dollars\")\n",
    "\n",
    "# Calculate investment_2\n",
    "investment_2 = npf.pv(rate=.03, nper=50, pmt=0, fv=100)\n",
    "print(\"Investment 2 is worth $\" + str(round(-investment_2, 2)) + \" in today's dollars\")\n"
   ]
  },
  {
   "cell_type": "code",
   "execution_count": null,
   "metadata": {},
   "outputs": [],
   "source": []
  }
 ],
 "metadata": {
  "kernelspec": {
   "display_name": "Python 3",
   "language": "python",
   "name": "python3"
  },
  "language_info": {
   "codemirror_mode": {
    "name": "ipython",
    "version": 3
   },
   "file_extension": ".py",
   "mimetype": "text/x-python",
   "name": "python",
   "nbconvert_exporter": "python",
   "pygments_lexer": "ipython3",
   "version": "3.7.4"
  }
 },
 "nbformat": 4,
 "nbformat_minor": 4
}
